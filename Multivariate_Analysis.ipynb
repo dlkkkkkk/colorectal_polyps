{
 "cells": [
  {
   "cell_type": "code",
   "execution_count": 1,
   "id": "ffa6daa6-a06f-4741-a5ba-905f84b2e161",
   "metadata": {
    "tags": []
   },
   "outputs": [],
   "source": [
    "import pandas as pd\n",
    "import numpy as np\n",
    "import re\n",
    "from string import digits\n",
    "import numpy as np\n",
    "import pandas as pd\n",
    "import string, sys\n",
    "from sklearn import metrics as evaluators\n",
    "from sklearn.model_selection import cross_validate\n",
    "from pymongo import MongoClient \n",
    "from sshtunnel import SSHTunnelForwarder\n",
    "from imblearn.over_sampling import SMOTE\n",
    "from sklearn.model_selection import train_test_split\n",
    "from tqdm import tqdm\n",
    "import statsmodels.api as sm\n",
    "from sklearn.linear_model import LogisticRegression\n",
    "from sklearn.metrics import accuracy_score\n",
    "from sklearn import metrics\n",
    "from sklearn.metrics import confusion_matrix\n",
    "import matplotlib.pyplot as plt\n",
    "from imblearn.over_sampling import BorderlineSMOTE\n",
    "from collections import Counter"
   ]
  },
  {
   "cell_type": "markdown",
   "id": "930c05c0",
   "metadata": {},
   "source": [
    "## 串接MongoDB的資料庫"
   ]
  },
  {
   "cell_type": "code",
   "execution_count": 2,
   "id": "397d99b4-2666-4d55-b3e2-63f7d308764b",
   "metadata": {},
   "outputs": [
    {
     "name": "stdout",
     "output_type": "stream",
     "text": [
      "Done\n"
     ]
    }
   ],
   "source": [
    "server = SSHTunnelForwarder(('140.127.32.24',22),\n",
    "    ssh_password='npustMIS2023',\n",
    "    ssh_username='chiayu',\n",
    "    remote_bind_address=('140.127.32.23', 27016)\n",
    ")\n",
    "\n",
    "mongo_user = 'senior01'\n",
    "mongo_password = 'senior018787'\n",
    "\n",
    "server.start()\n",
    "# print(server.local_bind_port)\n",
    "client = MongoClient('127.0.0.1',server.local_bind_port)\n",
    "client.admin.authenticate(mongo_user,mongo_password)\n",
    "#db_name = client['medicine']\n",
    "print('Done')"
   ]
  },
  {
   "cell_type": "code",
   "execution_count": 3,
   "id": "2acf3dcf-c285-4300-bd85-7696bee9d079",
   "metadata": {},
   "outputs": [
    {
     "name": "stdout",
     "output_type": "stream",
     "text": [
      "                            _id    年份            健診號       病歷號  性別   年齡   尿酸  \\\n",
      "0      6564a85c16d962e4e681866a  2010  2010010401001   9764229   1  0.0  4.6   \n",
      "1      6564a85c16d962e4e681866b  2010  2010010401003  20834735   1  2.0  6.5   \n",
      "2      6564a85c16d962e4e681866c  2010  2010010401005   2834286   0  2.0  3.1   \n",
      "3      6564a85c16d962e4e681866d  2010  2010010401006  20863610   1  1.0  5.5   \n",
      "4      6564a85c16d962e4e681866e  2010  2010010401009   3901976   0  1.0  4.7   \n",
      "...                         ...   ...            ...       ...  ..  ...  ...   \n",
      "59138  6564b73a16d962e4e6826d6c  2014  2014123101068    539434   1  NaN  9.3   \n",
      "59139  6564b73a16d962e4e6826d6d  2014  2014123101069   8000050   1  1.0  5.2   \n",
      "59140  6564b73a16d962e4e6826d6e  2014  2014123101071   2147418   0  1.0  4.3   \n",
      "59141  6564b73a16d962e4e6826d6f  2014  2014123101073  39118655   1  1.0  5.1   \n",
      "59142  6564b73a16d962e4e6826d70  2014  2014123101076  39033805   1  NaN  NaN   \n",
      "\n",
      "       紅血球色素    血小板   淋巴球  ...   齲齒  牙齒缺失  慢性齒齦炎  胃潰瘍   胃炎  膽囊息肉  膽囊結石  脂肪肝  \\\n",
      "0       31.1  194.0  23.2  ...  0.0   0.0    0.0  0.0  1.0   0.0   0.0  0.0   \n",
      "1       30.8  166.0  18.0  ...  1.0   0.0    0.0  0.0  1.0   0.0   1.0  0.0   \n",
      "2       27.5  258.0  47.2  ...  1.0   0.0    0.0  0.0  1.0   0.0   0.0  0.0   \n",
      "3       27.6  185.0  29.4  ...  1.0   0.0    0.0  0.0  1.0   1.0   0.0  0.0   \n",
      "4       29.0  257.0  28.8  ...  0.0   0.0    0.0  0.0  1.0   0.0   0.0  0.0   \n",
      "...      ...    ...   ...  ...  ...   ...    ...  ...  ...   ...   ...  ...   \n",
      "59138   28.9  309.0  17.1  ...  0.0   0.0    0.0  NaN  NaN   0.0   0.0  0.0   \n",
      "59139   30.7  193.0  35.3  ...  0.0   0.0    0.0  0.0  1.0   0.0   0.0  0.0   \n",
      "59140   30.9  183.0  46.7  ...  0.0   0.0    0.0  0.0  1.0   0.0   0.0  0.0   \n",
      "59141   29.7  186.0  37.7  ...  1.0   0.0    0.0  0.0  1.0   1.0   0.0  0.0   \n",
      "59142    NaN    NaN   NaN  ...  NaN   NaN    NaN  0.0  1.0   NaN   NaN  NaN   \n",
      "\n",
      "        AST  Hs-CRP  \n",
      "0      15.0    1.10  \n",
      "1      12.9    0.58  \n",
      "2      12.7    0.52  \n",
      "3      16.3    0.62  \n",
      "4      12.9    1.69  \n",
      "...     ...     ...  \n",
      "59138  14.1     NaN  \n",
      "59139  15.2    0.30  \n",
      "59140  12.7   16.20  \n",
      "59141  15.6     NaN  \n",
      "59142   NaN     NaN  \n",
      "\n",
      "[59143 rows x 47 columns]\n",
      "                            _id            健診號       病歷號  性別   出生年  年齡\n",
      "0      6564ba0a16d962e4e6826d71  2010010202002  20484198   0  1938  85\n",
      "1      6564ba0a16d962e4e6826d72  2010010401001   9764229   1  1977  46\n",
      "2      6564ba0a16d962e4e6826d73  2010010401003  20834735   1  1936  87\n",
      "3      6564ba0a16d962e4e6826d74  2010010401005   2834286   0  1937  86\n",
      "4      6564ba0a16d962e4e6826d75  2010010401006  20863610   1  1964  59\n",
      "...                         ...            ...       ...  ..   ...  ..\n",
      "70988  6564ba0a16d962e4e68382bd  2014123101068    539434   1  1972  51\n",
      "70989  6564ba0a16d962e4e68382be  2014123101069   8000050   1  1960  63\n",
      "70990  6564ba0a16d962e4e68382bf  2014123101071   2147418   0  1968  55\n",
      "70991  6564ba0a16d962e4e68382c0  2014123101073  39118655   1  1973  50\n",
      "70992  6564ba0a16d962e4e68382c1  2014123101076  39033805   1  1975  48\n",
      "\n",
      "[70993 rows x 6 columns]\n"
     ]
    }
   ],
   "source": [
    "db_name = client['medicine']\n",
    "data = db_name['IM_alldata'].find()\n",
    "agedata = db_name['HELNO_CHTNO'].find()\n",
    "datadf = pd.DataFrame(list(data))\n",
    "agedata = pd.DataFrame(list(agedata))\n",
    "print(datadf)\n",
    "print(agedata)"
   ]
  },
  {
   "cell_type": "markdown",
   "id": "2a5d0089",
   "metadata": {},
   "source": [
    "## 將健檢病患的年齡作對應"
   ]
  },
  {
   "cell_type": "code",
   "execution_count": 4,
   "id": "07afa439-607d-46c7-be88-95bd5b849351",
   "metadata": {},
   "outputs": [
    {
     "name": "stdout",
     "output_type": "stream",
     "text": [
      "70993\n",
      "70993\n"
     ]
    }
   ],
   "source": [
    "HELNO = []\n",
    "age_1 = []\n",
    "for i in range(0,len(agedata)):\n",
    "    HEL = agedata['健診號'][i]\n",
    "    now = int(HEL[0:4]) - int(agedata['出生年'][i])\n",
    "    HELNO.append(agedata['健診號'][i])\n",
    "    age_1.append(now)\n",
    "print(len(HELNO))\n",
    "print(len(age_1))"
   ]
  },
  {
   "cell_type": "code",
   "execution_count": 5,
   "id": "00c7ee4b-5fd9-4378-8a12-0ad534126c82",
   "metadata": {},
   "outputs": [
    {
     "name": "stdout",
     "output_type": "stream",
     "text": [
      "                            _id    年份            健診號       病歷號  性別    年齡   尿酸  \\\n",
      "0      6564a85c16d962e4e681866a  2010  2010010401001   9764229   1  33.0  4.6   \n",
      "1      6564a85c16d962e4e681866b  2010  2010010401003  20834735   1  74.0  6.5   \n",
      "2      6564a85c16d962e4e681866c  2010  2010010401005   2834286   0  73.0  3.1   \n",
      "3      6564a85c16d962e4e681866d  2010  2010010401006  20863610   1  46.0  5.5   \n",
      "4      6564a85c16d962e4e681866e  2010  2010010401009   3901976   0  51.0  4.7   \n",
      "...                         ...   ...            ...       ...  ..   ...  ...   \n",
      "59138  6564b73a16d962e4e6826d6c  2014  2014123101068    539434   1  42.0  9.3   \n",
      "59139  6564b73a16d962e4e6826d6d  2014  2014123101069   8000050   1  54.0  5.2   \n",
      "59140  6564b73a16d962e4e6826d6e  2014  2014123101071   2147418   0  46.0  4.3   \n",
      "59141  6564b73a16d962e4e6826d6f  2014  2014123101073  39118655   1  41.0  5.1   \n",
      "59142  6564b73a16d962e4e6826d70  2014  2014123101076  39033805   1  39.0  NaN   \n",
      "\n",
      "       紅血球色素    血小板   淋巴球  ...   齲齒  牙齒缺失  慢性齒齦炎  胃潰瘍   胃炎  膽囊息肉  膽囊結石  脂肪肝  \\\n",
      "0       31.1  194.0  23.2  ...  0.0   0.0    0.0  0.0  1.0   0.0   0.0  0.0   \n",
      "1       30.8  166.0  18.0  ...  1.0   0.0    0.0  0.0  1.0   0.0   1.0  0.0   \n",
      "2       27.5  258.0  47.2  ...  1.0   0.0    0.0  0.0  1.0   0.0   0.0  0.0   \n",
      "3       27.6  185.0  29.4  ...  1.0   0.0    0.0  0.0  1.0   1.0   0.0  0.0   \n",
      "4       29.0  257.0  28.8  ...  0.0   0.0    0.0  0.0  1.0   0.0   0.0  0.0   \n",
      "...      ...    ...   ...  ...  ...   ...    ...  ...  ...   ...   ...  ...   \n",
      "59138   28.9  309.0  17.1  ...  0.0   0.0    0.0  NaN  NaN   0.0   0.0  0.0   \n",
      "59139   30.7  193.0  35.3  ...  0.0   0.0    0.0  0.0  1.0   0.0   0.0  0.0   \n",
      "59140   30.9  183.0  46.7  ...  0.0   0.0    0.0  0.0  1.0   0.0   0.0  0.0   \n",
      "59141   29.7  186.0  37.7  ...  1.0   0.0    0.0  0.0  1.0   1.0   0.0  0.0   \n",
      "59142    NaN    NaN   NaN  ...  NaN   NaN    NaN  0.0  1.0   NaN   NaN  NaN   \n",
      "\n",
      "        AST  Hs-CRP  \n",
      "0      15.0    1.10  \n",
      "1      12.9    0.58  \n",
      "2      12.7    0.52  \n",
      "3      16.3    0.62  \n",
      "4      12.9    1.69  \n",
      "...     ...     ...  \n",
      "59138  14.1     NaN  \n",
      "59139  15.2    0.30  \n",
      "59140  12.7   16.20  \n",
      "59141  15.6     NaN  \n",
      "59142   NaN     NaN  \n",
      "\n",
      "[59143 rows x 47 columns]\n"
     ]
    }
   ],
   "source": [
    "for i in range(0,len(datadf)):\n",
    "    try:\n",
    "        temp = HELNO.index(datadf['健診號'][i])       \n",
    "        datadf['年齡'][i] = int(age_1[temp])\n",
    "    except:\n",
    "        pass\n",
    "print(datadf)"
   ]
  },
  {
   "cell_type": "code",
   "execution_count": 6,
   "id": "5e51ecdb-2f37-4c2a-9725-b9ae1a91a93a",
   "metadata": {},
   "outputs": [
    {
     "name": "stdout",
     "output_type": "stream",
     "text": [
      "2.0\n",
      "101.0\n"
     ]
    }
   ],
   "source": [
    "maxage = 0\n",
    "minage = 100\n",
    "for i in range(0,len(datadf)):\n",
    "    if datadf['年齡'][i] > maxage:\n",
    "        maxage = datadf['年齡'][i]\n",
    "    if datadf['年齡'][i] < minage:\n",
    "        minage = datadf['年齡'][i]\n",
    "print(minage)\n",
    "print(maxage)"
   ]
  },
  {
   "cell_type": "markdown",
   "id": "2510f71d",
   "metadata": {},
   "source": [
    "## BMI分群"
   ]
  },
  {
   "cell_type": "code",
   "execution_count": 7,
   "id": "56bda0f8-9f7c-4d01-8e33-b21bcde690ba",
   "metadata": {},
   "outputs": [
    {
     "name": "stdout",
     "output_type": "stream",
     "text": [
      "BMI\n",
      "2.0    28428\n",
      "3.0    16800\n",
      "4.0    10625\n",
      "1.0     2694\n",
      "Name: count, dtype: int64\n"
     ]
    }
   ],
   "source": [
    "# 1表過輕、2表健康、3表過重、4表肥胖\n",
    "for i in range(0,len(datadf)):\n",
    "    body = datadf['BMI'][i]\n",
    "    if body < 18.5:\n",
    "        datadf['BMI'][i] = 1\n",
    "    elif body >= 18.5 and body < 24:\n",
    "        datadf['BMI'][i] = 2\n",
    "    elif body >= 24 and body < 27:\n",
    "        datadf['BMI'][i] = 3\n",
    "    elif body >= 27:\n",
    "        datadf['BMI'][i] = 4\n",
    "print(pd.Series.value_counts(datadf['BMI']))"
   ]
  },
  {
   "cell_type": "markdown",
   "id": "c26d3fd2-a129-4b08-83e2-2e83d936835c",
   "metadata": {},
   "source": [
    "## 年齡分群"
   ]
  },
  {
   "cell_type": "code",
   "execution_count": 8,
   "id": "02c91653-585a-4468-921a-63a0107a25b8",
   "metadata": {},
   "outputs": [
    {
     "name": "stdout",
     "output_type": "stream",
     "text": [
      "年齡分群\n",
      "1    41201\n",
      "0    13297\n",
      "2     4645\n",
      "Name: count, dtype: int64\n"
     ]
    }
   ],
   "source": [
    "# 1表年輕人、2表中老年人、3表老年人\n",
    "datadf['年齡分群'] = 0\n",
    "for i in range(0,len(datadf)):\n",
    "    if datadf['年齡'][i] < 40:\n",
    "        datadf['年齡分群'][i] = 0\n",
    "    elif datadf['年齡'][i] >= 40 and datadf['年齡'][i] < 70:\n",
    "        datadf['年齡分群'][i] = 1\n",
    "    elif datadf['年齡'][i] >= 70:\n",
    "        datadf['年齡分群'][i] = 2\n",
    "print(pd.Series.value_counts(datadf['年齡分群']))"
   ]
  },
  {
   "cell_type": "code",
   "execution_count": 9,
   "id": "4e554542-56f5-435b-b50d-eb978fbffa8d",
   "metadata": {},
   "outputs": [
    {
     "name": "stderr",
     "output_type": "stream",
     "text": [
      "100%|███████████████████████████████████████████████████████████████████████████| 59143/59143 [00:47<00:00, 1241.98it/s]"
     ]
    },
    {
     "name": "stdout",
     "output_type": "stream",
     "text": [
      "年齡分群\n",
      "0    8175\n",
      "Name: count, dtype: int64\n",
      "年齡分群\n",
      "1    25310\n",
      "Name: count, dtype: int64\n",
      "年齡分群\n",
      "2    2433\n",
      "Name: count, dtype: int64\n",
      "年齡分群\n",
      "0    5122\n",
      "Name: count, dtype: int64\n",
      "年齡分群\n",
      "1    15891\n",
      "Name: count, dtype: int64\n",
      "年齡分群\n",
      "2    2212\n",
      "Name: count, dtype: int64\n"
     ]
    },
    {
     "name": "stderr",
     "output_type": "stream",
     "text": [
      "\n"
     ]
    }
   ],
   "source": [
    "# 分為男女後，再分成40歲以下、40-70歲、70歲以上\n",
    "column = ['健診號', '病歷號', '性別', '年齡', '尿酸', '紅血球色素', '血小板', '淋巴球',\n",
    "       '嗜中性球', '單核球', '飯前血糖', '飯後血糖', '膽固醇總量', 'BMI', '腰圍', '三酸甘油脂', 'HDL',\n",
    "       '收縮壓', '舒張壓', '低密度脂蛋白', '超低密度脂蛋白', 'Atherogenic Index of Plasma',\n",
    "       'Triglyceride Glucose Index', 'Monocyte to Lymphocyte Ratio', 'SIRI',\n",
    "       'SII', '大腸息肉', 'HP', '胃息肉', '切片腺瘤', '增生性息肉', '腺性息肉', '大腸切片息肉', '腸黏膜化生',\n",
    "       '牙結石', '齲齒', '牙齒缺失', '慢性齒齦炎', '胃潰瘍', '胃炎', '膽囊息肉', '膽囊結石', '脂肪肝', 'AST',\n",
    "       'Hs-CRP', '年齡分群']\n",
    "\n",
    "boy0 = pd.DataFrame(columns = column)\n",
    "boy1 = pd.DataFrame(columns = column)\n",
    "boy2 = pd.DataFrame(columns = column)\n",
    "girl0 = pd.DataFrame(columns = column)\n",
    "girl1 = pd.DataFrame(columns = column)\n",
    "girl2 = pd.DataFrame(columns = column)\n",
    "\n",
    "with tqdm(total=len(datadf)) as pbar:\n",
    "    for i in range(0,len(datadf)):\n",
    "        tempdf = datadf.iloc[[i]]  # 使用雙重中括號將其轉換為 DataFrame\n",
    "        #tempdf.reset_index(drop=True, inplace=True)  # 重新設置索引\n",
    "        # 0表女生、1表男生\n",
    "        if datadf['性別'][i] == 0:\n",
    "            if datadf['年齡分群'][i] == 0:\n",
    "                #tempdf = datadf.iloc[i]\n",
    "                girl0 = pd.concat([girl0, tempdf], ignore_index=True)\n",
    "            elif datadf['年齡分群'][i] == 1:\n",
    "                #tempdf = datadf.iloc[i]\n",
    "                girl1 = pd.concat([girl1, tempdf], ignore_index=True)\n",
    "            elif datadf['年齡分群'][i] == 2:\n",
    "                #tempdf = datadf.iloc[i]\n",
    "                girl2 = pd.concat([girl2, tempdf], ignore_index=True)\n",
    "        elif datadf['性別'][i] == 1:\n",
    "            if datadf['年齡分群'][i] == 0:\n",
    "                #tempdf = datadf.iloc[i]\n",
    "                boy0 = pd.concat([boy0, tempdf], ignore_index=True)\n",
    "            elif datadf['年齡分群'][i] == 1:\n",
    "                #tempdf = datadf.iloc[i]\n",
    "                boy1 = pd.concat([boy1, tempdf], ignore_index=True)\n",
    "            elif datadf['年齡分群'][i] == 2:\n",
    "                #tempdf = datadf.iloc[i]\n",
    "                boy2 = pd.concat([boy2, tempdf], ignore_index=True)\n",
    "        pbar.update(1)\n",
    "print(pd.Series.value_counts(boy0['年齡分群']))\n",
    "print(pd.Series.value_counts(boy1['年齡分群']))\n",
    "print(pd.Series.value_counts(boy2['年齡分群']))\n",
    "print(pd.Series.value_counts(girl0['年齡分群']))\n",
    "print(pd.Series.value_counts(girl1['年齡分群']))\n",
    "print(pd.Series.value_counts(girl2['年齡分群']))"
   ]
  },
  {
   "cell_type": "markdown",
   "id": "b63069ef-dade-4daa-8186-a5f8a5bc3e5c",
   "metadata": {},
   "source": [
    "## 性別分群"
   ]
  },
  {
   "cell_type": "code",
   "execution_count": 10,
   "id": "f698ee35-290c-4daf-b999-bb091095d097",
   "metadata": {},
   "outputs": [
    {
     "name": "stdout",
     "output_type": "stream",
     "text": [
      "性別分群\n",
      "1    35918\n",
      "0    23225\n",
      "Name: count, dtype: int64\n"
     ]
    }
   ],
   "source": [
    "# 0表女生、1表男生\n",
    "datadf['性別分群'] = 0\n",
    "for i in range(0,len(datadf)):\n",
    "    if datadf['性別'][i] == 0:\n",
    "        datadf['性別分群'][i] = 0\n",
    "    elif datadf['性別'][i] == 1:\n",
    "        datadf['性別分群'][i] = 1\n",
    "print(pd.Series.value_counts(datadf['性別分群']))"
   ]
  },
  {
   "cell_type": "code",
   "execution_count": 11,
   "id": "a239b114-5096-447d-b92c-e754b87d6eda",
   "metadata": {},
   "outputs": [
    {
     "name": "stderr",
     "output_type": "stream",
     "text": [
      "100%|████████████████████████████████████████████████████████████████████████████| 59143/59143 [01:09<00:00, 845.93it/s]"
     ]
    },
    {
     "name": "stdout",
     "output_type": "stream",
     "text": [
      "性別分群\n",
      "1.0    35918\n",
      "Name: count, dtype: int64\n",
      "性別分群\n",
      "0.0    23225\n",
      "Name: count, dtype: int64\n"
     ]
    },
    {
     "name": "stderr",
     "output_type": "stream",
     "text": [
      "\n"
     ]
    }
   ],
   "source": [
    "# 只對性別作分群\n",
    "column = ['健診號', '病歷號', '性別', '年齡', '尿酸', '紅血球色素', '血小板', '淋巴球',\n",
    "       '嗜中性球', '單核球', '飯前血糖', '飯後血糖', '膽固醇總量', 'BMI', '腰圍', '三酸甘油脂', 'HDL',\n",
    "       '收縮壓', '舒張壓', '低密度脂蛋白', '超低密度脂蛋白', 'Atherogenic Index of Plasma',\n",
    "       'Triglyceride Glucose Index', 'Monocyte to Lymphocyte Ratio', 'SIRI',\n",
    "       'SII', '大腸息肉', 'HP', '胃息肉', '切片腺瘤', '增生性息肉', '腺性息肉', '大腸切片息肉', '腸黏膜化生',\n",
    "       '牙結石', '齲齒', '牙齒缺失', '慢性齒齦炎', '胃潰瘍', '胃炎', '膽囊息肉', '膽囊結石', '脂肪肝', 'AST',\n",
    "       'Hs-CRP', '性別分群']\n",
    "boy = pd.DataFrame(columns = column)\n",
    "girl = pd.DataFrame(columns = column)\n",
    "with tqdm(total=len(datadf)) as pbar:\n",
    "    for i in range(0,len(datadf)):\n",
    "        tempdf = datadf.iloc[[i]] # 使用雙重中括號將其轉換為 DataFrame\n",
    "        if datadf['性別分群'][i] == 0:\n",
    "            #tempdf = datadf.iloc[i]\n",
    "            girl = pd.concat([girl, tempdf], ignore_index=True)\n",
    "        elif datadf['性別分群'][i] == 1:\n",
    "            #tempdf = datadf.iloc[i]\n",
    "            boy = pd.concat([boy, tempdf], ignore_index=True)\n",
    "        pbar.update(1)\n",
    "print(pd.Series.value_counts(boy['性別分群']))\n",
    "print(pd.Series.value_counts(girl['性別分群']))"
   ]
  },
  {
   "cell_type": "code",
   "execution_count": 12,
   "id": "635ad7d6-b784-44de-ac91-090f26ccd7df",
   "metadata": {
    "tags": []
   },
   "outputs": [
    {
     "name": "stdout",
     "output_type": "stream",
     "text": [
      "                            _id    年份            健診號       病歷號  性別    年齡   尿酸  \\\n",
      "0      6564a85c16d962e4e681866a  2010  2010010401001   9764229   1  33.0  4.6   \n",
      "1      6564a85c16d962e4e681866b  2010  2010010401003  20834735   1  74.0  6.5   \n",
      "2      6564a85c16d962e4e681866c  2010  2010010401005   2834286   0  73.0  3.1   \n",
      "3      6564a85c16d962e4e681866d  2010  2010010401006  20863610   1  46.0  5.5   \n",
      "4      6564a85c16d962e4e681866e  2010  2010010401009   3901976   0  51.0  4.7   \n",
      "...                         ...   ...            ...       ...  ..   ...  ...   \n",
      "59138  6564b73a16d962e4e6826d6c  2014  2014123101068    539434   1  42.0  9.3   \n",
      "59139  6564b73a16d962e4e6826d6d  2014  2014123101069   8000050   1  54.0  5.2   \n",
      "59140  6564b73a16d962e4e6826d6e  2014  2014123101071   2147418   0  46.0  4.3   \n",
      "59141  6564b73a16d962e4e6826d6f  2014  2014123101073  39118655   1  41.0  5.1   \n",
      "59142  6564b73a16d962e4e6826d70  2014  2014123101076  39033805   1  39.0  NaN   \n",
      "\n",
      "       紅血球色素    血小板   淋巴球  ...  胃潰瘍   胃炎  膽囊息肉  膽囊結石  脂肪肝   AST  Hs-CRP  年齡分群  \\\n",
      "0       31.1  194.0  23.2  ...  0.0  1.0   0.0   0.0  0.0  15.0    1.10     0   \n",
      "1       30.8  166.0  18.0  ...  0.0  1.0   0.0   1.0  0.0  12.9    0.58     2   \n",
      "2       27.5  258.0  47.2  ...  0.0  1.0   0.0   0.0  0.0  12.7    0.52     2   \n",
      "3       27.6  185.0  29.4  ...  0.0  1.0   1.0   0.0  0.0  16.3    0.62     1   \n",
      "4       29.0  257.0  28.8  ...  0.0  1.0   0.0   0.0  0.0  12.9    1.69     1   \n",
      "...      ...    ...   ...  ...  ...  ...   ...   ...  ...   ...     ...   ...   \n",
      "59138   28.9  309.0  17.1  ...  NaN  NaN   0.0   0.0  0.0  14.1     NaN     1   \n",
      "59139   30.7  193.0  35.3  ...  0.0  1.0   0.0   0.0  0.0  15.2    0.30     1   \n",
      "59140   30.9  183.0  46.7  ...  0.0  1.0   0.0   0.0  0.0  12.7   16.20     1   \n",
      "59141   29.7  186.0  37.7  ...  0.0  1.0   1.0   0.0  0.0  15.6     NaN     1   \n",
      "59142    NaN    NaN   NaN  ...  0.0  1.0   NaN   NaN  NaN   NaN     NaN     0   \n",
      "\n",
      "       性別分群  Neutrophil-to-Lymphocyte Ratio  \n",
      "0         1                        3.004310  \n",
      "1         1                        4.277778  \n",
      "2         0                        0.934322  \n",
      "3         1                        2.102041  \n",
      "4         0                        2.260417  \n",
      "...     ...                             ...  \n",
      "59138     1                        4.040936  \n",
      "59139     1                        1.495751  \n",
      "59140     0                        0.794433  \n",
      "59141     1                        1.408488  \n",
      "59142     1                             NaN  \n",
      "\n",
      "[59143 rows x 50 columns]\n"
     ]
    }
   ],
   "source": [
    "import math\n",
    "\n",
    "# NLR算法\n",
    "datadf['Neutrophil-to-Lymphocyte Ratio'] = 0\n",
    "for i in range(0,59143):\n",
    "    datadf['Neutrophil-to-Lymphocyte Ratio'][i] = float(datadf['嗜中性球'][i]) / float(datadf['淋巴球'][i])       \n",
    "datadf = datadf.reset_index(drop=True)\n",
    "print(datadf)"
   ]
  },
  {
   "cell_type": "code",
   "execution_count": 13,
   "id": "41fd55f3-b8d9-410a-a971-91e39867ba35",
   "metadata": {
    "tags": []
   },
   "outputs": [
    {
     "name": "stdout",
     "output_type": "stream",
     "text": [
      "                 健診號       病歷號 性別    年齡   尿酸  紅血球色素    血小板   淋巴球  嗜中性球  單核球  \\\n",
      "0      2010010401001   9764229  1  33.0  4.6   31.1  194.0  23.2  69.7  6.0   \n",
      "1      2010010401003  20834735  1  74.0  6.5   30.8  166.0  18.0  77.0  5.0   \n",
      "2      2010010401006  20863610  1  46.0  5.5   27.6  185.0  29.4  61.8  7.2   \n",
      "3      2010010401012   3651793  1  37.0  6.1   30.2  246.0  35.9  52.6  6.3   \n",
      "4      2010010401013  21316965  1  41.0  7.8   31.8  303.0  27.5  63.9  6.1   \n",
      "...              ...       ... ..   ...  ...    ...    ...   ...   ...  ...   \n",
      "35913  2014123101065   2896615  1  45.0  5.5   20.8  261.0  35.5  57.3  4.5   \n",
      "35914  2014123101068    539434  1  42.0  9.3   28.9  309.0  17.1  69.1  5.2   \n",
      "35915  2014123101069   8000050  1  54.0  5.2   30.7  193.0  35.3  52.8  7.5   \n",
      "35916  2014123101073  39118655  1  41.0  5.1   29.7  186.0  37.7  53.1  6.9   \n",
      "35917  2014123101076  39033805  1  39.0  NaN    NaN    NaN   NaN   NaN  NaN   \n",
      "\n",
      "       ...  膽囊息肉  膽囊結石  脂肪肝   AST  Hs-CRP  年齡分群                       _id  \\\n",
      "0      ...   0.0   0.0  0.0  15.0    1.10     0  6564a85c16d962e4e681866a   \n",
      "1      ...   0.0   1.0  0.0  12.9    0.58     2  6564a85c16d962e4e681866b   \n",
      "2      ...   1.0   0.0  0.0  16.3    0.62     1  6564a85c16d962e4e681866d   \n",
      "3      ...   0.0   0.0  0.0  16.7    0.72     0  6564a85c16d962e4e6818670   \n",
      "4      ...   0.0   0.0  0.0  15.7    2.61     1  6564a85c16d962e4e6818671   \n",
      "...    ...   ...   ...  ...   ...     ...   ...                       ...   \n",
      "35913  ...   0.0   0.0  0.0  14.3    0.44     1  6564b73a16d962e4e6826d6b   \n",
      "35914  ...   0.0   0.0  0.0  14.1     NaN     1  6564b73a16d962e4e6826d6c   \n",
      "35915  ...   0.0   0.0  0.0  15.2    0.30     1  6564b73a16d962e4e6826d6d   \n",
      "35916  ...   1.0   0.0  0.0  15.6     NaN     1  6564b73a16d962e4e6826d6f   \n",
      "35917  ...   NaN   NaN  NaN   NaN     NaN     0  6564b73a16d962e4e6826d70   \n",
      "\n",
      "           年份  性別分群  Neutrophil-to-Lymphocyte Ratio  \n",
      "0      2010.0   1.0                        3.004310  \n",
      "1      2010.0   1.0                        4.277778  \n",
      "2      2010.0   1.0                        2.102041  \n",
      "3      2010.0   1.0                        1.465181  \n",
      "4      2010.0   1.0                        2.323636  \n",
      "...       ...   ...                             ...  \n",
      "35913  2014.0   1.0                        1.614085  \n",
      "35914  2014.0   1.0                        4.040936  \n",
      "35915  2014.0   1.0                        1.495751  \n",
      "35916  2014.0   1.0                        1.408488  \n",
      "35917  2014.0   1.0                             NaN  \n",
      "\n",
      "[35918 rows x 50 columns]\n",
      "                 健診號       病歷號 性別    年齡   尿酸  紅血球色素    血小板   淋巴球  嗜中性球  單核球  \\\n",
      "0      2010010401005   2834286  0  73.0  3.1   27.5  258.0  47.2  44.1  6.7   \n",
      "1      2010010401009   3901976  0  51.0  4.7   29.0  257.0  28.8  65.1  3.3   \n",
      "2      2010010401010  21286260  0  36.0  5.5   21.0  432.0  34.6  55.7  6.6   \n",
      "3      2010010401017  10409868  0  53.0  3.9   30.0  243.0  40.4  49.3  8.7   \n",
      "4      2010010401019   2498536  0  51.0  3.5   27.0  306.0  29.4  64.9  4.1   \n",
      "...              ...       ... ..   ...  ...    ...    ...   ...   ...  ...   \n",
      "23220  2014123101041   1774527  0  51.0  5.5   27.9  252.0  22.8  72.3  3.7   \n",
      "23221  2014123101053   1121224  0  58.0  3.8   31.8  130.0  41.5  51.1  4.2   \n",
      "23222  2014123101060  39211328  0  24.0  4.7   29.5  185.0  50.2  40.7  5.5   \n",
      "23223  2014123101062   2763373  0  53.0  5.4   29.1  258.0  39.4  56.1  3.2   \n",
      "23224  2014123101071   2147418  0  46.0  4.3   30.9  183.0  46.7  37.1  8.6   \n",
      "\n",
      "       ...  膽囊息肉  膽囊結石  脂肪肝   AST  Hs-CRP  年齡分群                       _id  \\\n",
      "0      ...   0.0   0.0  0.0  12.7    0.52     2  6564a85c16d962e4e681866c   \n",
      "1      ...   0.0   0.0  0.0  12.9    1.69     1  6564a85c16d962e4e681866e   \n",
      "2      ...   0.0   0.0  0.0  10.0    5.30     0  6564a85c16d962e4e681866f   \n",
      "3      ...   0.0   0.0  0.0  12.1   11.64     1  6564a85c16d962e4e6818674   \n",
      "4      ...   1.0   0.0  0.0  13.2    2.78     1  6564a85c16d962e4e6818676   \n",
      "...    ...   ...   ...  ...   ...     ...   ...                       ...   \n",
      "23220  ...   0.0   0.0  0.0  12.8    0.83     1  6564b73a16d962e4e6826d5c   \n",
      "23221  ...   0.0   0.0  0.0  14.0    2.02     1  6564b73a16d962e4e6826d62   \n",
      "23222  ...   0.0   0.0  0.0  12.8     NaN     0  6564b73a16d962e4e6826d67   \n",
      "23223  ...   0.0   0.0  1.0  14.1    0.80     1  6564b73a16d962e4e6826d69   \n",
      "23224  ...   0.0   0.0  0.0  12.7   16.20     1  6564b73a16d962e4e6826d6e   \n",
      "\n",
      "           年份  性別分群  Neutrophil-to-Lymphocyte Ratio  \n",
      "0      2010.0   0.0                        0.934322  \n",
      "1      2010.0   0.0                        2.260417  \n",
      "2      2010.0   0.0                        1.609827  \n",
      "3      2010.0   0.0                        1.220297  \n",
      "4      2010.0   0.0                        2.207483  \n",
      "...       ...   ...                             ...  \n",
      "23220  2014.0   0.0                        3.171053  \n",
      "23221  2014.0   0.0                        1.231325  \n",
      "23222  2014.0   0.0                        0.810757  \n",
      "23223  2014.0   0.0                        1.423858  \n",
      "23224  2014.0   0.0                        0.794433  \n",
      "\n",
      "[23225 rows x 50 columns]\n"
     ]
    }
   ],
   "source": [
    "# NLR分性別\n",
    "import math\n",
    "boy['Neutrophil-to-Lymphocyte Ratio'] = 0\n",
    "girl['Neutrophil-to-Lymphocyte Ratio'] = 0\n",
    "\n",
    "for i in range(0,35918):\n",
    "    boy['Neutrophil-to-Lymphocyte Ratio'][i] = float(boy['嗜中性球'][i]) / float(boy['淋巴球'][i])        \n",
    "boy = boy.reset_index(drop=True)\n",
    "\n",
    "for i in range(0,23225):\n",
    "    girl['Neutrophil-to-Lymphocyte Ratio'][i] = float(girl['嗜中性球'][i]) / float(girl['淋巴球'][i])        \n",
    "girl = girl.reset_index(drop=True)\n",
    "\n",
    "print(boy)\n",
    "print(girl)"
   ]
  },
  {
   "cell_type": "code",
   "execution_count": 14,
   "id": "e505c9d8-3c23-4181-a757-f3e1037aefff",
   "metadata": {
    "tags": []
   },
   "outputs": [
    {
     "name": "stdout",
     "output_type": "stream",
     "text": [
      "                健診號       病歷號 性別    年齡   尿酸  紅血球色素    血小板   淋巴球  嗜中性球  單核球  \\\n",
      "0     2010010401001   9764229  1  33.0  4.6   31.1  194.0  23.2  69.7  6.0   \n",
      "1     2010010401012   3651793  1  37.0  6.1   30.2  246.0  35.9  52.6  6.3   \n",
      "2     2010010401016  21316963  1  31.0  8.4   31.5  341.0  43.0  52.0  5.0   \n",
      "3     2010010401028  21316961  1  38.0  6.1   30.7  314.0  30.3  56.2  4.2   \n",
      "4     2010010401030  21316964  1  29.0  7.2   28.8  216.0  28.7  64.0  6.1   \n",
      "...             ...       ... ..   ...  ...    ...    ...   ...   ...  ...   \n",
      "8170  2014123101048  39211465  1  29.0  4.6   32.3  245.0  33.6  58.2  7.0   \n",
      "8171  2014123101057  99087460  1  34.0  7.9   29.4  266.0  37.9  52.7  5.1   \n",
      "8172  2014123101058   2811350  1  33.0  4.5   31.7  197.0  32.1  61.3  5.0   \n",
      "8173  2014123101059  10419696  1  39.0  7.0   30.5  310.0  38.0  57.7  2.7   \n",
      "8174  2014123101076  39033805  1  39.0  NaN    NaN    NaN   NaN   NaN  NaN   \n",
      "\n",
      "      ...   胃炎  膽囊息肉  膽囊結石  脂肪肝   AST  Hs-CRP  年齡分群                       _id  \\\n",
      "0     ...  1.0   0.0   0.0  0.0  15.0    1.10     0  6564a85c16d962e4e681866a   \n",
      "1     ...  0.0   0.0   0.0  0.0  16.7    0.72     0  6564a85c16d962e4e6818670   \n",
      "2     ...  1.0   0.0   0.0  0.0  15.7    0.26     0  6564a85c16d962e4e6818673   \n",
      "3     ...  1.0   0.0   0.0  0.0  14.9    1.12     0  6564a85c16d962e4e681867a   \n",
      "4     ...  1.0   0.0   0.0  0.0  15.4    0.32     0  6564a85c16d962e4e681867b   \n",
      "...   ...  ...   ...   ...  ...   ...     ...   ...                       ...   \n",
      "8170  ...  1.0   0.0   0.0  0.0  16.9    0.35     0  6564b73a16d962e4e6826d5e   \n",
      "8171  ...  NaN   1.0   0.0  0.0  15.2     NaN     0  6564b73a16d962e4e6826d64   \n",
      "8172  ...  1.0   0.0   0.0  0.0  15.9    0.21     0  6564b73a16d962e4e6826d65   \n",
      "8173  ...  1.0   0.0   0.0  0.0  15.3    0.59     0  6564b73a16d962e4e6826d66   \n",
      "8174  ...  1.0   NaN   NaN  NaN   NaN     NaN     0  6564b73a16d962e4e6826d70   \n",
      "\n",
      "          年份  Neutrophil-to-Lymphocyte Ratio  \n",
      "0     2010.0                        3.004310  \n",
      "1     2010.0                        1.465181  \n",
      "2     2010.0                        1.209302  \n",
      "3     2010.0                        1.854785  \n",
      "4     2010.0                        2.229965  \n",
      "...      ...                             ...  \n",
      "8170  2014.0                        1.732143  \n",
      "8171  2014.0                        1.390501  \n",
      "8172  2014.0                        1.909657  \n",
      "8173  2014.0                        1.518421  \n",
      "8174  2014.0                             NaN  \n",
      "\n",
      "[8175 rows x 49 columns]\n"
     ]
    }
   ],
   "source": [
    "# NLR分性別跟年齡\n",
    "import math\n",
    "boy0['Neutrophil-to-Lymphocyte Ratio'] = 0\n",
    "boy1['Neutrophil-to-Lymphocyte Ratio'] = 0\n",
    "boy2['Neutrophil-to-Lymphocyte Ratio'] = 0\n",
    "girl0['Neutrophil-to-Lymphocyte Ratio'] = 0\n",
    "girl1['Neutrophil-to-Lymphocyte Ratio'] = 0\n",
    "girl2['Neutrophil-to-Lymphocyte Ratio'] = 0\n",
    "\n",
    "for i in range(0,8175):\n",
    "    boy0['Neutrophil-to-Lymphocyte Ratio'][i] = float(boy0['嗜中性球'][i]) / float(boy0['淋巴球'][i])        \n",
    "boy0 = boy0.reset_index(drop=True)\n",
    "\n",
    "for i in range(0,25310):\n",
    "    boy1['Neutrophil-to-Lymphocyte Ratio'][i] = float(boy1['嗜中性球'][i]) / float(boy1['淋巴球'][i])        \n",
    "boy1 = boy1.reset_index(drop=True)\n",
    "\n",
    "for i in range(0,2433):\n",
    "    boy2['Neutrophil-to-Lymphocyte Ratio'][i] = float(boy2['嗜中性球'][i]) / float(boy2['淋巴球'][i])        \n",
    "boy2 = boy2.reset_index(drop=True)\n",
    "\n",
    "for i in range(0,5122):\n",
    "    girl0['Neutrophil-to-Lymphocyte Ratio'][i] = float(girl0['嗜中性球'][i]) / float(girl0['淋巴球'][i])        \n",
    "girl0 = girl0.reset_index(drop=True)\n",
    "\n",
    "for i in range(0,15891):\n",
    "    girl1['Neutrophil-to-Lymphocyte Ratio'][i] = float(girl1['嗜中性球'][i]) / float(girl1['淋巴球'][i])        \n",
    "girl1 = girl1.reset_index(drop=True)\n",
    "\n",
    "for i in range(0,2212):\n",
    "    girl2['Neutrophil-to-Lymphocyte Ratio'][i] = float(girl2['嗜中性球'][i]) / float(girl2['淋巴球'][i])        \n",
    "girl2 = girl2.reset_index(drop=True)\n",
    "\n",
    "print(boy0)"
   ]
  },
  {
   "cell_type": "code",
   "execution_count": 15,
   "id": "998f1125-339a-4714-9829-f289be72b3b9",
   "metadata": {
    "tags": []
   },
   "outputs": [],
   "source": [
    "# VAI分性別\n",
    "import math\n",
    "\n",
    "boy['Visceral adiposity index'] = 0\n",
    "girl['Visceral adiposity index'] = 0\n",
    "\n",
    "for i in range(0,35918):\n",
    "    boy['Visceral adiposity index'][i] = (float(boy['腰圍'][i]) / (39.68+(1.88 * float(boy['BMI'][i])))) * (float(boy['三酸甘油脂'][i]) / 1.03) * (1.31 / float(boy['HDL'][i]))       \n",
    "boy = boy.reset_index(drop=True)\n",
    "\n",
    "for i in range(0,23225):\n",
    "    girl['Visceral adiposity index'][i] = (float(girl['腰圍'][i]) / (36.58+(1.89 * float(girl['BMI'][i])))) * (float(girl['三酸甘油脂'][i]) / 0.81) * (1.52 / float(girl['HDL'][i]))     \n",
    "girl = girl.reset_index(drop=True)"
   ]
  },
  {
   "cell_type": "code",
   "execution_count": 16,
   "id": "a1e90718-ce96-4c6a-913a-095a3108b198",
   "metadata": {
    "tags": []
   },
   "outputs": [],
   "source": [
    "# VAI性別跟年齡\n",
    "import math\n",
    "\n",
    "boy0['Visceral adiposity index'] = 0\n",
    "boy1['Visceral adiposity index'] = 0\n",
    "boy2['Visceral adiposity index'] = 0\n",
    "girl0['Visceral adiposity index'] = 0\n",
    "girl1['Visceral adiposity index'] = 0\n",
    "girl2['Visceral adiposity index'] = 0\n",
    "\n",
    "for i in range(0,8175):\n",
    "    boy0['Visceral adiposity index'][i] = (float(boy0['腰圍'][i]) / (39.68+(1.88 * float(boy0['BMI'][i])))) * (float(boy0['三酸甘油脂'][i]) / 1.03) * (1.31 / float(boy0['HDL'][i]))       \n",
    "boy0 = boy0.reset_index(drop=True)\n",
    "\n",
    "for i in range(0,25310):\n",
    "    boy1['Visceral adiposity index'][i] = (float(boy1['腰圍'][i]) / (39.68+(1.88 * float(boy1['BMI'][i])))) * (float(boy1['三酸甘油脂'][i]) / 1.03) * (1.31 / float(boy1['HDL'][i]))         \n",
    "boy1 = boy1.reset_index(drop=True)\n",
    "\n",
    "for i in range(0,2433):\n",
    "    boy2['Visceral adiposity index'][i] = (float(boy2['腰圍'][i]) / (39.68+(1.88 * float(boy2['BMI'][i])))) * (float(boy2['三酸甘油脂'][i]) / 1.03) * (1.31 / float(boy2['HDL'][i]))      \n",
    "boy2 = boy2.reset_index(drop=True)\n",
    "\n",
    "for i in range(0,5122):\n",
    "    girl0['Visceral adiposity index'][i] = (float(girl0['腰圍'][i]) / (36.58+(1.89 * float(girl0['BMI'][i])))) * (float(girl0['三酸甘油脂'][i]) / 0.81) * (1.52 / float(girl0['HDL'][i]))  \n",
    "girl0 = girl0.reset_index(drop=True)\n",
    "\n",
    "for i in range(0,15891):\n",
    "    girl1['Visceral adiposity index'][i] = (float(girl1['腰圍'][i]) / (36.58+(1.89 * float(girl1['BMI'][i])))) * (float(girl1['三酸甘油脂'][i]) / 0.81) * (1.52 / float(girl1['HDL'][i]))         \n",
    "girl1 = girl1.reset_index(drop=True)\n",
    "\n",
    "for i in range(0,2212):\n",
    "    girl2['Visceral adiposity index'][i] = (float(girl2['腰圍'][i]) / (36.58+(1.89 * float(girl2['BMI'][i])))) * (float(girl2['三酸甘油脂'][i]) / 0.81) * (1.52 / float(girl2['HDL'][i]))         \n",
    "girl2 = girl2.reset_index(drop=True)"
   ]
  },
  {
   "cell_type": "code",
   "execution_count": 17,
   "id": "268af1e5-4aa0-4836-8567-9dd9bcfd49d9",
   "metadata": {
    "tags": []
   },
   "outputs": [],
   "source": [
    "bb = boy.copy()\n",
    "gg = girl.copy()"
   ]
  },
  {
   "cell_type": "code",
   "execution_count": 18,
   "id": "2ed5b60a-8cf1-4380-944d-598679a950f1",
   "metadata": {
    "tags": []
   },
   "outputs": [],
   "source": [
    "temp_1 = boy0.copy()\n",
    "#temp_1\n",
    "temp_2 = boy1.copy()\n",
    "#temp_2\n",
    "temp_3 = boy2.copy()\n",
    "#temp_3\n",
    "temp_4 = girl0.copy()\n",
    "#temp_4\n",
    "temp_5 = girl1.copy()\n",
    "#temp_5\n",
    "temp_6 = girl2.copy()"
   ]
  },
  {
   "cell_type": "markdown",
   "id": "15315cac",
   "metadata": {},
   "source": [
    "## 去除用不到的欄位"
   ]
  },
  {
   "cell_type": "code",
   "execution_count": 19,
   "id": "e461c597-c6b4-4e04-ba13-77e63b61e63d",
   "metadata": {
    "tags": []
   },
   "outputs": [
    {
     "name": "stdout",
     "output_type": "stream",
     "text": [
      "                            _id    年份            健診號       病歷號  性別    年齡   尿酸  \\\n",
      "0      6564a85c16d962e4e681866a  2010  2010010401001   9764229   1  33.0  4.6   \n",
      "1      6564a85c16d962e4e681866b  2010  2010010401003  20834735   1  74.0  6.5   \n",
      "2      6564a85c16d962e4e681866c  2010  2010010401005   2834286   0  73.0  3.1   \n",
      "3      6564a85c16d962e4e681866d  2010  2010010401006  20863610   1  46.0  5.5   \n",
      "4      6564a85c16d962e4e681866e  2010  2010010401009   3901976   0  51.0  4.7   \n",
      "...                         ...   ...            ...       ...  ..   ...  ...   \n",
      "59138  6564b73a16d962e4e6826d6c  2014  2014123101068    539434   1  42.0  9.3   \n",
      "59139  6564b73a16d962e4e6826d6d  2014  2014123101069   8000050   1  54.0  5.2   \n",
      "59140  6564b73a16d962e4e6826d6e  2014  2014123101071   2147418   0  46.0  4.3   \n",
      "59141  6564b73a16d962e4e6826d6f  2014  2014123101073  39118655   1  41.0  5.1   \n",
      "59142  6564b73a16d962e4e6826d70  2014  2014123101076  39033805   1  39.0  NaN   \n",
      "\n",
      "       紅血球色素    血小板   淋巴球  ...  胃潰瘍   胃炎  膽囊息肉  膽囊結石  脂肪肝   AST  Hs-CRP  年齡分群  \\\n",
      "0       31.1  194.0  23.2  ...  0.0  1.0   0.0   0.0  0.0  15.0    1.10     0   \n",
      "1       30.8  166.0  18.0  ...  0.0  1.0   0.0   1.0  0.0  12.9    0.58     2   \n",
      "2       27.5  258.0  47.2  ...  0.0  1.0   0.0   0.0  0.0  12.7    0.52     2   \n",
      "3       27.6  185.0  29.4  ...  0.0  1.0   1.0   0.0  0.0  16.3    0.62     1   \n",
      "4       29.0  257.0  28.8  ...  0.0  1.0   0.0   0.0  0.0  12.9    1.69     1   \n",
      "...      ...    ...   ...  ...  ...  ...   ...   ...  ...   ...     ...   ...   \n",
      "59138   28.9  309.0  17.1  ...  NaN  NaN   0.0   0.0  0.0  14.1     NaN     1   \n",
      "59139   30.7  193.0  35.3  ...  0.0  1.0   0.0   0.0  0.0  15.2    0.30     1   \n",
      "59140   30.9  183.0  46.7  ...  0.0  1.0   0.0   0.0  0.0  12.7   16.20     1   \n",
      "59141   29.7  186.0  37.7  ...  0.0  1.0   1.0   0.0  0.0  15.6     NaN     1   \n",
      "59142    NaN    NaN   NaN  ...  0.0  1.0   NaN   NaN  NaN   NaN     NaN     0   \n",
      "\n",
      "       性別分群  Neutrophil-to-Lymphocyte Ratio  \n",
      "0         1                        3.004310  \n",
      "1         1                        4.277778  \n",
      "2         0                        0.934322  \n",
      "3         1                        2.102041  \n",
      "4         0                        2.260417  \n",
      "...     ...                             ...  \n",
      "59138     1                        4.040936  \n",
      "59139     1                        1.495751  \n",
      "59140     0                        0.794433  \n",
      "59141     1                        1.408488  \n",
      "59142     1                             NaN  \n",
      "\n",
      "[59143 rows x 44 columns]\n"
     ]
    }
   ],
   "source": [
    "datadf.drop(['大腸息肉','胃息肉','切片腺瘤','增生性息肉','腺性息肉','大腸切片息肉'], axis=1, inplace=True)\n",
    "print(datadf)"
   ]
  },
  {
   "cell_type": "code",
   "execution_count": 20,
   "id": "5912c91f-ba08-4031-a804-989c5d6443e5",
   "metadata": {
    "tags": []
   },
   "outputs": [],
   "source": [
    "bb.drop(['大腸息肉','胃息肉','切片腺瘤','增生性息肉','腺性息肉','大腸切片息肉'], axis=1, inplace=True)\n",
    "gg.drop(['大腸息肉','胃息肉','切片腺瘤','增生性息肉','腺性息肉','大腸切片息肉'], axis=1, inplace=True)"
   ]
  },
  {
   "cell_type": "code",
   "execution_count": 21,
   "id": "4321d45a-4c25-459a-9713-7c00b35ccada",
   "metadata": {
    "tags": []
   },
   "outputs": [],
   "source": [
    "temp_1.drop(['大腸息肉','胃息肉','切片腺瘤','增生性息肉','腺性息肉','大腸切片息肉'], axis=1, inplace=True)\n",
    "temp_2.drop(['大腸息肉','胃息肉','切片腺瘤','增生性息肉','腺性息肉','大腸切片息肉'], axis=1, inplace=True)\n",
    "temp_3.drop(['大腸息肉','胃息肉','切片腺瘤','增生性息肉','腺性息肉','大腸切片息肉'], axis=1, inplace=True)\n",
    "temp_4.drop(['大腸息肉','胃息肉','切片腺瘤','增生性息肉','腺性息肉','大腸切片息肉'], axis=1, inplace=True)\n",
    "temp_5.drop(['大腸息肉','胃息肉','切片腺瘤','增生性息肉','腺性息肉','大腸切片息肉'], axis=1, inplace=True)\n",
    "temp_6.drop(['大腸息肉','胃息肉','切片腺瘤','增生性息肉','腺性息肉','大腸切片息肉'], axis=1, inplace=True)"
   ]
  },
  {
   "cell_type": "code",
   "execution_count": 22,
   "id": "1518bae6-c333-4c54-877b-2c9b569fb0d1",
   "metadata": {
    "tags": []
   },
   "outputs": [
    {
     "name": "stdout",
     "output_type": "stream",
     "text": [
      "腸黏膜化生\n",
      "0.0    8292\n",
      "1.0    2088\n",
      "Name: count, dtype: int64\n",
      "                            _id    年份            健診號       病歷號  性別    年齡   尿酸  \\\n",
      "0      6564a85c16d962e4e6818671  2010  2010010401013  21316965   1  41.0  7.8   \n",
      "1      6564a85c16d962e4e6818675  2010  2010010401018  20226466   1  54.0  5.9   \n",
      "2      6564a85c16d962e4e681867a  2010  2010010401028  21316961   1  38.0  6.1   \n",
      "3      6564a85c16d962e4e6818681  2010  2010010401042   2590750   1  66.0  5.8   \n",
      "4      6564a85c16d962e4e6818692  2010  2010010402028   3810044   0  59.0  4.7   \n",
      "...                         ...   ...            ...       ...  ..   ...  ...   \n",
      "10375  6564b73a16d962e4e6826d4e  2014  2014123101016  39211331   0  50.0  5.4   \n",
      "10376  6564b73a16d962e4e6826d5a  2014  2014123101039  39019960   0  41.0  5.1   \n",
      "10377  6564b73a16d962e4e6826d5f  2014  2014123101049  21016603   1  47.0  8.0   \n",
      "10378  6564b73a16d962e4e6826d61  2014  2014123101052   2946846   1  67.0  8.9   \n",
      "10379  6564b73a16d962e4e6826d6e  2014  2014123101071   2147418   0  46.0  4.3   \n",
      "\n",
      "       紅血球色素    血小板   淋巴球  ...  胃潰瘍   胃炎  膽囊息肉  膽囊結石  脂肪肝   AST  Hs-CRP  年齡分群  \\\n",
      "0       31.8  303.0  27.5  ...  1.0  0.0   0.0   0.0  0.0  15.7    2.61     1   \n",
      "1       22.6  197.0  32.1  ...  1.0  1.0   0.0   0.0  0.0  14.3    3.39     1   \n",
      "2       30.7  314.0  30.3  ...  0.0  1.0   0.0   0.0  0.0  14.9    1.12     0   \n",
      "3       30.6  366.0  30.9  ...  1.0  0.0   0.0   0.0  0.0  15.7    0.88     1   \n",
      "4       30.9  273.0  35.1  ...  0.0  1.0   0.0   0.0  0.0  15.4    2.81     1   \n",
      "...      ...    ...   ...  ...  ...  ...   ...   ...  ...   ...     ...   ...   \n",
      "10375   26.9  307.0  38.4  ...  0.0  0.0   1.0   0.0  0.0  13.6    1.94     1   \n",
      "10376   25.3  341.0  30.5  ...  0.0  1.0   0.0   0.0  0.0  10.8    1.82     1   \n",
      "10377   30.7  190.0  35.5  ...  0.0  1.0   0.0   0.0  0.0  15.2    2.87     1   \n",
      "10378   31.6  244.0  41.5  ...  0.0  1.0   0.0   0.0  0.0  14.1    3.08     1   \n",
      "10379   30.9  183.0  46.7  ...  0.0  1.0   0.0   0.0  0.0  12.7   16.20     1   \n",
      "\n",
      "       性別分群  Neutrophil-to-Lymphocyte Ratio  \n",
      "0         1                        2.323636  \n",
      "1         1                        1.757009  \n",
      "2         1                        1.854785  \n",
      "3         1                        1.951456  \n",
      "4         0                        1.535613  \n",
      "...     ...                             ...  \n",
      "10375     0                        1.473958  \n",
      "10376     0                        2.006557  \n",
      "10377     1                        1.600000  \n",
      "10378     1                        1.093976  \n",
      "10379     0                        0.794433  \n",
      "\n",
      "[10380 rows x 44 columns]\n"
     ]
    }
   ],
   "source": [
    "datadf.replace('',np.nan, inplace=True)\n",
    "datadf.dropna(axis=0, inplace=True)\n",
    "datadf.reset_index(drop=True,inplace=True)\n",
    "print(pd.Series.value_counts(datadf['腸黏膜化生']))\n",
    "print(datadf)"
   ]
  },
  {
   "cell_type": "code",
   "execution_count": 23,
   "id": "e98d923a-deef-4c90-ba92-267c8ae56ea3",
   "metadata": {
    "tags": []
   },
   "outputs": [
    {
     "name": "stdout",
     "output_type": "stream",
     "text": [
      "腸黏膜化生\n",
      "0.0    4732\n",
      "1.0    1447\n",
      "Name: count, dtype: int64\n",
      "                健診號       病歷號 性別    年齡   尿酸  紅血球色素    血小板   淋巴球  嗜中性球  單核球  \\\n",
      "0     2010010401013  21316965  1  41.0  7.8   31.8  303.0  27.5  63.9  6.1   \n",
      "1     2010010401018  20226466  1  54.0  5.9   22.6  197.0  32.1  56.4  8.1   \n",
      "2     2010010401028  21316961  1  38.0  6.1   30.7  314.0  30.3  56.2  4.2   \n",
      "3     2010010401042   2590750  1  66.0  5.8   30.6  366.0  30.9  60.3  4.1   \n",
      "4     2010010402032   2304721  1  52.0  8.1   29.8  268.0  35.5  55.5  6.2   \n",
      "...             ...       ... ..   ...  ...    ...    ...   ...   ...  ...   \n",
      "6174  2014123001086  10652468  1  54.0  4.8   30.8  211.0  38.5  51.8  6.5   \n",
      "6175  2014123101012  39211333  1  62.0  5.5   31.7  243.0  37.3  55.9  5.2   \n",
      "6176  2014123101015  20314919  1  32.0  9.4   21.7  160.0  37.1  57.0  5.3   \n",
      "6177  2014123101049  21016603  1  47.0  8.0   30.7  190.0  35.5  56.8  5.3   \n",
      "6178  2014123101052   2946846  1  67.0  8.9   31.6  244.0  41.5  45.4  7.5   \n",
      "\n",
      "      ...  膽囊結石  脂肪肝   AST  Hs-CRP  年齡分群                       _id      年份  \\\n",
      "0     ...   0.0  0.0  15.7    2.61     1  6564a85c16d962e4e6818671  2010.0   \n",
      "1     ...   0.0  0.0  14.3    3.39     1  6564a85c16d962e4e6818675  2010.0   \n",
      "2     ...   0.0  0.0  14.9    1.12     0  6564a85c16d962e4e681867a  2010.0   \n",
      "3     ...   0.0  0.0  15.7    0.88     1  6564a85c16d962e4e6818681  2010.0   \n",
      "4     ...   0.0  0.0  15.5    2.67     1  6564a85c16d962e4e6818694  2010.0   \n",
      "...   ...   ...  ...   ...     ...   ...                       ...     ...   \n",
      "6174  ...   0.0  0.0  16.2    1.11     1  6564b73a16d962e4e6826d46  2014.0   \n",
      "6175  ...   1.0  0.0  15.3    1.12     1  6564b73a16d962e4e6826d4b  2014.0   \n",
      "6176  ...   1.0  1.0  14.4    0.60     0  6564b73a16d962e4e6826d4d  2014.0   \n",
      "6177  ...   0.0  0.0  15.2    2.87     1  6564b73a16d962e4e6826d5f  2014.0   \n",
      "6178  ...   0.0  0.0  14.1    3.08     1  6564b73a16d962e4e6826d61  2014.0   \n",
      "\n",
      "      性別分群  Neutrophil-to-Lymphocyte Ratio  Visceral adiposity index  \n",
      "0      1.0                        2.323636                  8.969417  \n",
      "1      1.0                        1.757009                  3.797647  \n",
      "2      1.0                        1.854785                 13.944959  \n",
      "3      1.0                        1.951456                  5.033125  \n",
      "4      1.0                        1.563380                 10.178550  \n",
      "...    ...                             ...                       ...  \n",
      "6174   1.0                        1.345455                  5.440688  \n",
      "6175   1.0                        1.498660                  4.718702  \n",
      "6176   1.0                        1.536388                  7.428005  \n",
      "6177   1.0                        1.600000                 13.025542  \n",
      "6178   1.0                        1.093976                  2.672874  \n",
      "\n",
      "[6179 rows x 45 columns]\n",
      "腸黏膜化生\n",
      "0.0    3560\n",
      "1.0     641\n",
      "Name: count, dtype: int64\n",
      "                健診號       病歷號 性別    年齡   尿酸  紅血球色素    血小板   淋巴球  嗜中性球   單核球  \\\n",
      "0     2010010402028   3810044  0  59.0  4.7   30.9  273.0  35.1  53.9   5.6   \n",
      "1     2010010402037   2127619  0  61.0  7.7   28.6  320.0  31.4  60.4   5.5   \n",
      "2     2010010601006   3516994  0  58.0  2.4   30.0  162.0  52.0  29.0  16.0   \n",
      "3     2010010601017   8480150  0  52.0  4.1   28.3  300.0  34.0  57.6   6.9   \n",
      "4     2010010601020   1667759  0  57.0  4.9   30.8  197.0  27.6  59.7   6.5   \n",
      "...             ...       ... ..   ...  ...    ...    ...   ...   ...   ...   \n",
      "4196  2014123001032  21546129  0  34.0  5.2   29.8  201.0  46.6  48.0   4.0   \n",
      "4197  2014123001035   1850844  0  65.0  5.4   29.1  272.0  43.8  48.7   5.7   \n",
      "4198  2014123101016  39211331  0  50.0  5.4   26.9  307.0  38.4  56.6   4.2   \n",
      "4199  2014123101039  39019960  0  41.0  5.1   25.3  341.0  30.5  61.2   6.2   \n",
      "4200  2014123101071   2147418  0  46.0  4.3   30.9  183.0  46.7  37.1   8.6   \n",
      "\n",
      "      ...  膽囊結石  脂肪肝   AST  Hs-CRP  年齡分群                       _id      年份  \\\n",
      "0     ...   0.0  0.0  15.4    2.81     1  6564a85c16d962e4e6818692  2010.0   \n",
      "1     ...   1.0  0.0  12.8    3.17     1  6564a85c16d962e4e6818695  2010.0   \n",
      "2     ...   0.0  0.0  13.0    1.09     1  6564a85c16d962e4e68186af  2010.0   \n",
      "3     ...   0.0  0.0  13.6    0.34     1  6564a85c16d962e4e68186b7  2010.0   \n",
      "4     ...   0.0  0.0  12.7    0.38     1  6564a85c16d962e4e68186b9  2010.0   \n",
      "...   ...   ...  ...   ...     ...   ...                       ...     ...   \n",
      "4196  ...   0.0  0.0  13.6    1.54     0  6564b73a16d962e4e6826d24  2014.0   \n",
      "4197  ...   0.0  2.0  13.8    0.35     1  6564b73a16d962e4e6826d26  2014.0   \n",
      "4198  ...   0.0  0.0  13.6    1.94     1  6564b73a16d962e4e6826d4e  2014.0   \n",
      "4199  ...   0.0  0.0  10.8    1.82     1  6564b73a16d962e4e6826d5a  2014.0   \n",
      "4200  ...   0.0  0.0  12.7   16.20     1  6564b73a16d962e4e6826d6e  2014.0   \n",
      "\n",
      "      性別分群  Neutrophil-to-Lymphocyte Ratio  Visceral adiposity index  \n",
      "0      0.0                        1.535613                  6.284549  \n",
      "1      0.0                        1.923567                 14.156975  \n",
      "2      0.0                        0.557692                  4.313317  \n",
      "3      0.0                        1.694118                  3.394144  \n",
      "4      0.0                        2.163043                  4.261141  \n",
      "...    ...                             ...                       ...  \n",
      "4196   0.0                        1.030043                  8.163471  \n",
      "4197   0.0                        1.111872                  2.812061  \n",
      "4198   0.0                        1.473958                  3.544233  \n",
      "4199   0.0                        2.006557                  3.733646  \n",
      "4200   0.0                        0.794433                  4.450248  \n",
      "\n",
      "[4201 rows x 45 columns]\n"
     ]
    }
   ],
   "source": [
    "bb.replace('',np.nan, inplace=True)\n",
    "bb.dropna(axis=0, inplace=True)\n",
    "bb.reset_index(drop=True,inplace=True)\n",
    "print(pd.Series.value_counts(bb['腸黏膜化生']))\n",
    "print(bb)\n",
    "\n",
    "gg.replace('',np.nan, inplace=True)\n",
    "gg.dropna(axis=0, inplace=True)\n",
    "gg.reset_index(drop=True,inplace=True)\n",
    "print(pd.Series.value_counts(gg['腸黏膜化生']))\n",
    "print(gg)"
   ]
  },
  {
   "cell_type": "code",
   "execution_count": 24,
   "id": "3480e0b8-616c-4067-9131-ec00f47f45dd",
   "metadata": {
    "tags": []
   },
   "outputs": [
    {
     "name": "stdout",
     "output_type": "stream",
     "text": [
      "腸黏膜化生\n",
      "0.0    733\n",
      "1.0    157\n",
      "Name: count, dtype: int64\n"
     ]
    }
   ],
   "source": [
    "temp_1.replace('',np.nan, inplace=True)\n",
    "temp_1.dropna(axis=0, inplace=True)\n",
    "temp_1.reset_index(drop=True,inplace=True)\n",
    "print(pd.Series.value_counts(temp_1['腸黏膜化生']))\n",
    "#print(temp_1)\n",
    "\n",
    "temp_2.replace('',np.nan, inplace=True)\n",
    "temp_2.dropna(axis=0, inplace=True)\n",
    "temp_2.reset_index(drop=True,inplace=True)\n",
    "#print(pd.Series.value_counts(temp_2['腸黏膜化生']))\n",
    "#print(temp_2)\n",
    "\n",
    "temp_3.replace('',np.nan, inplace=True)\n",
    "temp_3.dropna(axis=0, inplace=True)\n",
    "temp_3.reset_index(drop=True,inplace=True)\n",
    "#print(pd.Series.value_counts(temp_3['腸黏膜化生']))\n",
    "#print(temp_3)\n",
    "\n",
    "temp_4.replace('',np.nan, inplace=True)\n",
    "temp_4.dropna(axis=0, inplace=True)\n",
    "temp_4.reset_index(drop=True,inplace=True)\n",
    "#print(pd.Series.value_counts(temp_4['腸黏膜化生']))\n",
    "#print(temp_4)\n",
    "\n",
    "temp_5.replace('',np.nan, inplace=True)\n",
    "temp_5.dropna(axis=0, inplace=True)\n",
    "temp_5.reset_index(drop=True,inplace=True)\n",
    "#print(pd.Series.value_counts(temp_5['腸黏膜化生']))\n",
    "#print(temp_5)\n",
    "\n",
    "temp_6.replace('',np.nan, inplace=True)\n",
    "temp_6.dropna(axis=0, inplace=True)\n",
    "temp_6.reset_index(drop=True,inplace=True)"
   ]
  },
  {
   "cell_type": "markdown",
   "id": "7408e743",
   "metadata": {},
   "source": [
    "## 簡單展示最終的欄位"
   ]
  },
  {
   "cell_type": "code",
   "execution_count": 25,
   "id": "93ce3e87-f752-417d-9ae2-75d89c568f04",
   "metadata": {
    "tags": []
   },
   "outputs": [
    {
     "name": "stdout",
     "output_type": "stream",
     "text": [
      "Index(['_id', '年份', '健診號', '病歷號', '性別', '年齡', '尿酸', '紅血球色素', '血小板', '淋巴球',\n",
      "       '嗜中性球', '單核球', '飯前血糖', '飯後血糖', '膽固醇總量', 'BMI', '腰圍', '三酸甘油脂', 'HDL',\n",
      "       '收縮壓', '舒張壓', '低密度脂蛋白', '超低密度脂蛋白', 'Atherogenic Index of Plasma',\n",
      "       'Triglyceride Glucose Index', 'Monocyte to Lymphocyte Ratio', 'SIRI',\n",
      "       'SII', 'HP', '腸黏膜化生', '牙結石', '齲齒', '牙齒缺失', '慢性齒齦炎', '胃潰瘍', '胃炎', '膽囊息肉',\n",
      "       '膽囊結石', '脂肪肝', 'AST', 'Hs-CRP', '年齡分群', '性別分群',\n",
      "       'Neutrophil-to-Lymphocyte Ratio'],\n",
      "      dtype='object')\n"
     ]
    }
   ],
   "source": [
    "print(datadf.columns)"
   ]
  },
  {
   "cell_type": "code",
   "execution_count": 26,
   "id": "4548808b-6668-4c89-9509-aeb4aa137711",
   "metadata": {
    "tags": []
   },
   "outputs": [
    {
     "name": "stdout",
     "output_type": "stream",
     "text": [
      "Index(['健診號', '病歷號', '性別', '年齡', '尿酸', '紅血球色素', '血小板', '淋巴球', '嗜中性球', '單核球',\n",
      "       '飯前血糖', '飯後血糖', '膽固醇總量', 'BMI', '腰圍', '三酸甘油脂', 'HDL', '收縮壓', '舒張壓',\n",
      "       '低密度脂蛋白', '超低密度脂蛋白', 'Atherogenic Index of Plasma',\n",
      "       'Triglyceride Glucose Index', 'Monocyte to Lymphocyte Ratio', 'SIRI',\n",
      "       'SII', 'HP', '腸黏膜化生', '牙結石', '齲齒', '牙齒缺失', '慢性齒齦炎', '胃潰瘍', '胃炎', '膽囊息肉',\n",
      "       '膽囊結石', '脂肪肝', 'AST', 'Hs-CRP', '年齡分群', '_id', '年份', '性別分群',\n",
      "       'Neutrophil-to-Lymphocyte Ratio', 'Visceral adiposity index'],\n",
      "      dtype='object')\n"
     ]
    }
   ],
   "source": [
    "print(bb.columns)"
   ]
  },
  {
   "cell_type": "code",
   "execution_count": 27,
   "id": "8a9f16dc-97b5-42a3-a6d5-e4eddd5f9bf8",
   "metadata": {
    "tags": []
   },
   "outputs": [
    {
     "name": "stdout",
     "output_type": "stream",
     "text": [
      "Index(['健診號', '病歷號', '性別', '年齡', '尿酸', '紅血球色素', '血小板', '淋巴球', '嗜中性球', '單核球',\n",
      "       '飯前血糖', '飯後血糖', '膽固醇總量', 'BMI', '腰圍', '三酸甘油脂', 'HDL', '收縮壓', '舒張壓',\n",
      "       '低密度脂蛋白', '超低密度脂蛋白', 'Atherogenic Index of Plasma',\n",
      "       'Triglyceride Glucose Index', 'Monocyte to Lymphocyte Ratio', 'SIRI',\n",
      "       'SII', 'HP', '腸黏膜化生', '牙結石', '齲齒', '牙齒缺失', '慢性齒齦炎', '胃潰瘍', '胃炎', '膽囊息肉',\n",
      "       '膽囊結石', '脂肪肝', 'AST', 'Hs-CRP', '年齡分群', '_id', '年份',\n",
      "       'Neutrophil-to-Lymphocyte Ratio', 'Visceral adiposity index'],\n",
      "      dtype='object')\n"
     ]
    }
   ],
   "source": [
    "print(temp_1.columns)"
   ]
  },
  {
   "cell_type": "markdown",
   "id": "5dcceb26-0faf-4259-b71c-cd0b28894d8a",
   "metadata": {
    "tags": []
   },
   "source": [
    "# 發炎組"
   ]
  },
  {
   "cell_type": "code",
   "execution_count": 31,
   "id": "1be07027-0369-429a-b5db-099e95da86f3",
   "metadata": {
    "tags": []
   },
   "outputs": [
    {
     "name": "stdout",
     "output_type": "stream",
     "text": [
      "腸黏膜化生\n",
      "0.0    185\n",
      "1.0     37\n",
      "Name: count, dtype: int64\n",
      "腸黏膜化生\n",
      "0.0    185\n",
      "1.0    185\n",
      "Name: count, dtype: int64\n"
     ]
    }
   ],
   "source": [
    "#發炎組\n",
    "X = temp_6[['Monocyte to Lymphocyte Ratio', 'SIRI', 'SII', 'Hs-CRP', 'Neutrophil-to-Lymphocyte Ratio', 'HP', '血小板', '淋巴球', '嗜中性球', '單核球']]\n",
    "y = temp_6['腸黏膜化生']\n",
    "#y = y.astype(float)\n",
    "print(pd.Series.value_counts(y))\n",
    "#_c = X.columns\n",
    "# X = resultdf[['性別','年齡','血小板','淋巴球','嗜中性球','膽固醇總量','BMI','腰圍','三酸甘油脂','低密度脂蛋白','Atherogenic Index of Plasma','超低密度脂蛋白','HP','大腸切片息肉']]\n",
    "# X_1 = resultdf[['性別','年齡','血小板','淋巴球','嗜中性球','膽固醇總量','BMI','腰圍','三酸甘油脂','低密度脂蛋白','Atherogenic Index of Plasma','超低密度脂蛋白','HP','大腸切片息肉']]\n",
    "X = X.astype(float)\n",
    "smote = SMOTE()\n",
    "X_smote, y_smote = smote.fit_resample(X, y)\n",
    "print(pd.Series.value_counts(y_smote))\n",
    "X_smote = X_smote.reset_index(drop=True)\n",
    "y_smote = y_smote.reset_index(drop=True)"
   ]
  },
  {
   "cell_type": "markdown",
   "id": "493842cf-ffab-4d49-ac5d-8996824d65a8",
   "metadata": {},
   "source": [
    "# 代謝組"
   ]
  },
  {
   "cell_type": "code",
   "execution_count": 34,
   "id": "50b36f70-9a51-44dc-aeaa-f65ec0d9abb1",
   "metadata": {},
   "outputs": [
    {
     "name": "stdout",
     "output_type": "stream",
     "text": [
      "腸黏膜化生\n",
      "0.0    185\n",
      "1.0     37\n",
      "Name: count, dtype: int64\n",
      "腸黏膜化生\n",
      "0.0    185\n",
      "1.0    185\n",
      "Name: count, dtype: int64\n"
     ]
    }
   ],
   "source": [
    "#代謝組\n",
    "X = temp_6[['尿酸', '紅血球色素', '飯前血糖', '飯後血糖', '膽固醇總量', 'BMI', '腰圍', '三酸甘油脂', '收縮壓', '舒張壓', \n",
    "        'HDL', '低密度脂蛋白', '超低密度脂蛋白', 'Atherogenic Index of Plasma', 'Triglyceride Glucose Index',\n",
    "        '脂肪肝', 'Visceral adiposity index']]\n",
    "y = temp_6['腸黏膜化生']\n",
    "print(pd.Series.value_counts(y))\n",
    "\n",
    "#_c = X.columns\n",
    "# X = resultdf[['性別','年齡','血小板','淋巴球','嗜中性球','膽固醇總量','BMI','腰圍','三酸甘油脂','低密度脂蛋白','Atherogenic Index of Plasma','超低密度脂蛋白','HP','大腸切片息肉']]\n",
    "# X_1 = resultdf[['性別','年齡','血小板','淋巴球','嗜中性球','膽固醇總量','BMI','腰圍','三酸甘油脂','低密度脂蛋白','Atherogenic Index of Plasma','超低密度脂蛋白','HP','大腸切片息肉']]\n",
    "X = X.astype(float)\n",
    "smote = SMOTE()\n",
    "X_smote, y_smote = smote.fit_resample(X, y)\n",
    "print(pd.Series.value_counts(y_smote))\n",
    "X_smote = X_smote.reset_index(drop=True)\n",
    "y_smote = y_smote.reset_index(drop=True)"
   ]
  },
  {
   "cell_type": "markdown",
   "id": "b1774221-457b-4613-92ef-eb2377d8fa5e",
   "metadata": {},
   "source": [
    "# 其他組"
   ]
  },
  {
   "cell_type": "code",
   "execution_count": 28,
   "id": "d6b9508b-ffc0-4341-a507-edec577e4689",
   "metadata": {},
   "outputs": [
    {
     "name": "stdout",
     "output_type": "stream",
     "text": [
      "腸黏膜化生\n",
      "0.0    185\n",
      "1.0     37\n",
      "Name: count, dtype: int64\n",
      "腸黏膜化生\n",
      "0.0    185\n",
      "1.0    185\n",
      "Name: count, dtype: int64\n"
     ]
    }
   ],
   "source": [
    "#其他組\n",
    "X = temp_6[['牙結石', '齲齒', '牙齒缺失', '慢性齒齦炎', '膽囊息肉', '膽囊結石', 'AST']]\n",
    "y = temp_6['腸黏膜化生']\n",
    "print(pd.Series.value_counts(y))\n",
    "#_c = X.columns\n",
    "# X = resultdf[['性別','年齡','血小板','淋巴球','嗜中性球','膽固醇總量','BMI','腰圍','三酸甘油脂','低密度脂蛋白','Atherogenic Index of Plasma','超低密度脂蛋白','HP','大腸切片息肉']]\n",
    "# X_1 = resultdf[['性別','年齡','血小板','淋巴球','嗜中性球','膽固醇總量','BMI','腰圍','三酸甘油脂','低密度脂蛋白','Atherogenic Index of Plasma','超低密度脂蛋白','HP','大腸切片息肉']]\n",
    "X = X.astype(float)\n",
    "smote = SMOTE()\n",
    "X_smote, y_smote = smote.fit_resample(X, y)\n",
    "print(pd.Series.value_counts(y_smote))\n",
    "X_smote = X_smote.reset_index(drop=True)\n",
    "y_smote = y_smote.reset_index(drop=True)"
   ]
  },
  {
   "cell_type": "markdown",
   "id": "b4317f12-645e-4a34-ac05-a20aaac8d29b",
   "metadata": {},
   "source": [
    "## 針對各組做SMOTE"
   ]
  },
  {
   "cell_type": "code",
   "execution_count": 31,
   "id": "62a94c7a-8c2b-448a-a9a2-4aebfb39fa73",
   "metadata": {},
   "outputs": [
    {
     "name": "stdout",
     "output_type": "stream",
     "text": [
      "腸黏膜化生\n",
      "0.0    185\n",
      "1.0     37\n",
      "Name: count, dtype: int64\n",
      "腸黏膜化生\n",
      "0.0    185\n",
      "1.0    185\n",
      "Name: count, dtype: int64\n"
     ]
    }
   ],
   "source": [
    "from imblearn.under_sampling import RandomUnderSampler\n",
    "#未分組\n",
    "X = temp_6[['年齡', '尿酸', '紅血球色素', '血小板', '淋巴球',\n",
    "            '嗜中性球', '單核球', '飯前血糖', '飯後血糖', '膽固醇總量', 'BMI', '腰圍', '三酸甘油脂', 'HDL',\n",
    "           '收縮壓', '舒張壓', '低密度脂蛋白', '超低密度脂蛋白', 'Atherogenic Index of Plasma',\n",
    "            'Triglyceride Glucose Index', 'Monocyte to Lymphocyte Ratio', 'SIRI', 'SII', 'HP',\n",
    "           '牙結石', '齲齒', '牙齒缺失', '慢性齒齦炎', '膽囊息肉', '膽囊結石', '脂肪肝', 'AST', 'Hs-CRP',\n",
    "           'Neutrophil-to-Lymphocyte Ratio', 'Visceral adiposity index']]\n",
    "y = temp_6['腸黏膜化生']\n",
    "print(pd.Series.value_counts(y))\n",
    "\n",
    "# X = resultdf[['性別','年齡','血小板','淋巴球','嗜中性球','膽固醇總量','BMI','腰圍','三酸甘油脂','低密度脂蛋白','Atherogenic Index of Plasma','超低密度脂蛋白','HP','大腸切片息肉']]\n",
    "# X_1 = resultdf[['性別','年齡','血小板','淋巴球','嗜中性球','膽固醇總量','BMI','腰圍','三酸甘油脂','低密度脂蛋白','Atherogenic Index of Plasma','超低密度脂蛋白','HP','大腸切片息肉']]\n",
    "X = X.astype(float)\n",
    "\n",
    "smote = SMOTE()\n",
    "X_smote, y_smote = smote.fit_resample(X, y)\n",
    "print(pd.Series.value_counts(y_smote))\n",
    "X_smote = X_smote.reset_index(drop=True)\n",
    "y_smote = y_smote.reset_index(drop=True)\n",
    "#print(x_rus)"
   ]
  },
  {
   "cell_type": "code",
   "execution_count": 55,
   "id": "13269d39-7aa4-49d6-9e60-7c4982b41412",
   "metadata": {
    "tags": []
   },
   "outputs": [
    {
     "name": "stdout",
     "output_type": "stream",
     "text": [
      "腸黏膜化生\n",
      "0.0    185\n",
      "1.0     37\n",
      "Name: count, dtype: int64\n",
      "腸黏膜化生\n",
      "0.0    185\n",
      "1.0    185\n",
      "Name: count, dtype: int64\n"
     ]
    }
   ],
   "source": [
    "from imblearn.under_sampling import RandomUnderSampler\n",
    "#未分組\n",
    "X = temp_6[['超低密度脂蛋白', '三酸甘油脂']]\n",
    "y = temp_6['腸黏膜化生']\n",
    "print(pd.Series.value_counts(y))\n",
    "\n",
    "# X = resultdf[['性別','年齡','血小板','淋巴球','嗜中性球','膽固醇總量','BMI','腰圍','三酸甘油脂','低密度脂蛋白','Atherogenic Index of Plasma','超低密度脂蛋白','HP','大腸切片息肉']]\n",
    "# X_1 = resultdf[['性別','年齡','血小板','淋巴球','嗜中性球','膽固醇總量','BMI','腰圍','三酸甘油脂','低密度脂蛋白','Atherogenic Index of Plasma','超低密度脂蛋白','HP','大腸切片息肉']]\n",
    "X = X.astype(float)\n",
    "\n",
    "smote = SMOTE()\n",
    "X_smote, y_smote = smote.fit_resample(X, y)\n",
    "print(pd.Series.value_counts(y_smote))\n",
    "X_smote = X_smote.reset_index(drop=True)\n",
    "y_smote = y_smote.reset_index(drop=True)"
   ]
  },
  {
   "cell_type": "markdown",
   "id": "6cf25fd3",
   "metadata": {},
   "source": [
    "## 迴歸分析後各變數的統計值"
   ]
  },
  {
   "cell_type": "code",
   "execution_count": 44,
   "id": "f2a4f175-f5fe-49a5-9706-f35876aa77ec",
   "metadata": {},
   "outputs": [
    {
     "name": "stdout",
     "output_type": "stream",
     "text": [
      "1.4278988492425069\n",
      "0.15338389483618198\n",
      "T-statistic: 1.4278988492425069\n",
      "P-value: 0.15338389483618198\n",
      "Control\n",
      "Control: 1.8673210654350179\n",
      "0.9729457402185767\n",
      "IM\n",
      "IM: 1.822314264886314\n",
      "0.8933082338056355\n"
     ]
    }
   ],
   "source": [
    "from scipy import stats\n",
    "from scipy.stats import levene\n",
    "from scipy.stats import ttest_ind\n",
    "\n",
    "IM_0 = []\n",
    "IM_1 = []\n",
    "for i in range(0,len(X)):\n",
    "    if y[i] == 0:\n",
    "        IM_0.append(X['Neutrophil-to-Lymphocyte Ratio'][i])\n",
    "    elif y[i] == 1:\n",
    "        IM_1.append(X['Neutrophil-to-Lymphocyte Ratio'][i])\n",
    "\n",
    "#'年齡', '尿酸', '紅血球色素', '血小板', '淋巴球',\n",
    "#       '嗜中性球', '單核球', '飯前血糖', '飯後血糖', '膽固醇總量', 'BMI', '腰圍', '三酸甘油脂', 'HDL',\n",
    "#       '收縮壓', '舒張壓', '低密度脂蛋白', '超低密度脂蛋白', 'Atherogenic Index of Plasma',\n",
    "#       'Triglyceride Glucose Index', 'Monocyte to Lymphocyte Ratio', 'SIRI',\n",
    "#       'SII', 'HP', '牙結石', '齲齒', '牙齒缺失', '慢性齒齦炎', '膽囊息肉',\n",
    "#       '膽囊結石', '脂肪肝', 'AST', 'Hs-CRP', 'Neutrophil-to-Lymphocyte Ratio',\n",
    "#        'AST * Monocyte to Lymphocyte Ratio', 'Visceral adiposity index'\n",
    "#IM_1\n",
    "#statistic, p_value = levene(IM_0, IM_1)\n",
    "#print('統計量：%.2f'%statistic)\n",
    "#print('p-value:%.2f'%p_value)\n",
    "t_statistic, p_value = ttest_ind(IM_0, IM_1, equal_var=True, alternative='two-sided')\n",
    "#t_statistic, p_value = ttest_ind(IM_0, IM_1, alternative='two-sided')\n",
    "print(t_statistic)\n",
    "print(p_value)\n",
    "print(\"T-statistic:\", t_statistic)\n",
    "print(f\"P-value: {p_value}\")\n",
    "\n",
    "mean_1 = np.mean(IM_0)\n",
    "std_1 = np.std(IM_0)\n",
    "\n",
    "mean_2 = np.mean(IM_1)\n",
    "std_2 = np.std(IM_1)\n",
    "\n",
    "print('Control')\n",
    "print('Control:',mean_1)\n",
    "print(std_1)\n",
    "print('IM')\n",
    "print('IM:',mean_2)\n",
    "print(std_2)"
   ]
  },
  {
   "cell_type": "code",
   "execution_count": null,
   "id": "7baa6848-8a90-444c-befd-802454d6ec10",
   "metadata": {},
   "outputs": [],
   "source": [
    "# 若為類別變數\n",
    "print(pd.Series.value_counts(IM_0))\n",
    "print(pd.Series.value_counts(IM_1))"
   ]
  },
  {
   "cell_type": "markdown",
   "id": "a933fb3b-ab97-4e8a-b056-a6dd5f186eb1",
   "metadata": {},
   "source": [
    "## Stepwise"
   ]
  },
  {
   "cell_type": "code",
   "execution_count": 29,
   "id": "094b332e-507b-4f4a-85e2-f75ccc22e2cb",
   "metadata": {
    "tags": []
   },
   "outputs": [],
   "source": [
    "import statsmodels.api as sm\n",
    "def stepwise_selection(X, y,\n",
    "                       initial_list=[],\n",
    "                       threshold_in = 0.05,\n",
    "                       threshold_out = 0.05,\n",
    "                       verbose = True):\n",
    "    '''\n",
    "     threshold_out为t检验，threshold_in为F检验\n",
    "     X：待筛选变量\n",
    "     y：好坏标签\n",
    "     '''\n",
    "    #included = list(initial_list)\n",
    "    included = []\n",
    "    while True:\n",
    "        changed=False\n",
    "\n",
    "        excluded = list(set(X.columns)-set(included))\n",
    "        new_pval = pd.Series(index=excluded)\n",
    "        for new_column in excluded:\n",
    "            model = sm.Logit(y, sm.add_constant(pd.DataFrame(X[included+[new_column]]))).fit(disp=False)\n",
    "            new_pval[new_column] = model.pvalues[new_column]\n",
    "        best_pval = new_pval.min()\n",
    "        if best_pval < threshold_in:#F检验最小的显著性小于临界值，说明该变量有显著意义\n",
    "            best_feature = new_pval.idxmin()\n",
    "            included.append(best_feature)\n",
    "            changed=True\n",
    "            if verbose:\n",
    "                print('Add  {:30} with p-value {:.6}'.format(best_feature, best_pval))\n",
    "\n",
    "        model = sm.Logit(y, sm.add_constant(pd.DataFrame(X[included]))).fit(disp=False)\n",
    "\n",
    "        pvalues = model.pvalues.iloc[1:]\n",
    "        worst_pval = pvalues.max() \n",
    "        print('here')\n",
    "        if worst_pval > threshold_out:#T检验最大的大于临界值，说明该变量无显著意义。\n",
    "            changed=True\n",
    "            worst_feature = pvalues.idxmax()\n",
    "            included.remove(worst_feature)\n",
    "            if verbose:\n",
    "                print('Drop {:30} with p-value {:.6}'.format(worst_feature, worst_pval))\n",
    "        if not changed:\n",
    "            break\n",
    "    model = sm.Logit(y, sm.add_constant(pd.DataFrame(X[included]))).fit(disp=False)\n",
    "    print(model.summary2())\n",
    "    print(np.exp(model.params))\n",
    "    std_errors = model.bse\n",
    "    print(np.exp((model.params) - 1.96 * std_errors))\n",
    "    print(np.exp((model.params) + 1.96 * std_errors))\n",
    "    auc = metrics.roc_auc_score(y,model.predict())\n",
    "    #print AUC score\n",
    "    print(auc)\n",
    "    return included"
   ]
  },
  {
   "cell_type": "code",
   "execution_count": 30,
   "id": "8ef272df-51ea-4b87-af39-f98711eeb1fc",
   "metadata": {
    "tags": []
   },
   "outputs": [
    {
     "name": "stdout",
     "output_type": "stream",
     "text": [
      "Add  牙齒缺失                           with p-value 0.000286861\n",
      "here\n",
      "Add  膽囊息肉                           with p-value 0.000857751\n",
      "here\n",
      "Add  齲齒                             with p-value 0.00731887\n",
      "here\n",
      "here\n",
      "                         Results: Logit\n",
      "=================================================================\n",
      "Model:              Logit            Pseudo R-squared: 0.069     \n",
      "Dependent Variable: 腸黏膜化生            AIC:              485.7614  \n",
      "Date:               2024-08-15 11:40 BIC:              501.4155  \n",
      "No. Observations:   370              Log-Likelihood:   -238.88   \n",
      "Df Model:           3                LL-Null:          -256.46   \n",
      "Df Residuals:       366              LLR p-value:      1.1229e-07\n",
      "Converged:          1.0000           Scale:            1.0000    \n",
      "No. Iterations:     5.0000                                       \n",
      "-------------------------------------------------------------------\n",
      "           Coef.    Std.Err.      z      P>|z|     [0.025    0.975]\n",
      "-------------------------------------------------------------------\n",
      "const      0.1207     0.1332    0.9056   0.3651   -0.1405    0.3818\n",
      "牙齒缺失       1.4712     0.3691    3.9855   0.0001    0.7477    2.1947\n",
      "膽囊息肉      -1.3650     0.4142   -3.2954   0.0010   -2.1768   -0.5531\n",
      "齲齒        -0.7267     0.2709   -2.6820   0.0073   -1.2577   -0.1956\n",
      "=================================================================\n",
      "\n",
      "const    1.128245\n",
      "牙齒缺失     4.354547\n",
      "膽囊息肉     0.255388\n",
      "齲齒       0.483518\n",
      "dtype: float64\n",
      "const    0.868942\n",
      "牙齒缺失     2.112127\n",
      "膽囊息肉     0.113402\n",
      "齲齒       0.284302\n",
      "dtype: float64\n",
      "const    1.464928\n",
      "牙齒缺失     8.977717\n",
      "膽囊息肉     0.575150\n",
      "齲齒       0.822328\n",
      "dtype: float64\n",
      "0.6619138056975895\n",
      "['牙齒缺失', '膽囊息肉', '齲齒']\n"
     ]
    }
   ],
   "source": [
    "select_col = stepwise_selection(X_smote, y_smote)\n",
    "print(select_col)"
   ]
  },
  {
   "cell_type": "code",
   "execution_count": 31,
   "id": "2a8132b4-c54e-45f0-ac31-9e5687d34030",
   "metadata": {},
   "outputs": [],
   "source": [
    "#X_train, X_test,y_train, y_test = train_test_split(X_smote, y_smote ,random_state=42, test_size=0.3, shuffle=True) \n",
    "#odel = sm.Logit(y_train,X_train).fit(disp=False)\n",
    "#print(model.summary2())\n",
    "#y_pred = model.predict(X_test)"
   ]
  },
  {
   "cell_type": "code",
   "execution_count": 72,
   "id": "54390386-9020-4d2b-b27a-23479c84b579",
   "metadata": {
    "tags": []
   },
   "outputs": [
    {
     "name": "stdout",
     "output_type": "stream",
     "text": [
      "           HP\n",
      "0    1.000000\n",
      "1    1.000000\n",
      "2    0.000000\n",
      "3    1.000000\n",
      "4    1.000000\n",
      "..        ...\n",
      "365  0.000000\n",
      "366  0.846397\n",
      "367  0.000000\n",
      "368  0.165175\n",
      "369  0.616171\n",
      "\n",
      "[370 rows x 1 columns]\n"
     ]
    }
   ],
   "source": [
    "X_select = X_smote[select_col]\n",
    "print(X_select)"
   ]
  },
  {
   "cell_type": "code",
   "execution_count": 73,
   "id": "d1354d00-803c-4686-9cfd-edaf1f4e904f",
   "metadata": {},
   "outputs": [],
   "source": [
    "X_train, X_test,y_train, y_test = train_test_split(X_select, y_smote ,random_state=42, test_size=0.3, shuffle=True) \n",
    "model = sm.Logit(y_train,X_train).fit(disp=False)\n",
    "#print(model.summary2())\n",
    "y_pred = model.predict(X_test)"
   ]
  },
  {
   "cell_type": "code",
   "execution_count": 74,
   "id": "d05ff82a-cd97-4a23-96a2-65c163b51f61",
   "metadata": {},
   "outputs": [
    {
     "name": "stdout",
     "output_type": "stream",
     "text": [
      "Area under the ROC curve : 0.474172\n",
      "        fpr       tpr     1-fpr        tf  thresholds\n",
      "1  0.796296  0.701754  0.203704  0.498051         0.5\n"
     ]
    },
    {
     "data": {
      "text/plain": [
       "[Text(-0.5, 0, ''),\n",
       " Text(0.0, 0, ''),\n",
       " Text(0.5, 0, ''),\n",
       " Text(1.0, 0, ''),\n",
       " Text(1.5, 0, ''),\n",
       " Text(2.0, 0, ''),\n",
       " Text(2.5, 0, ''),\n",
       " Text(3.0, 0, ''),\n",
       " Text(3.5, 0, '')]"
      ]
     },
     "execution_count": 74,
     "metadata": {},
     "output_type": "execute_result"
    },
    {
     "data": {
      "image/png": "[encoded data removed]",
      "text/plain": [
       "<Figure size 640x480 with 1 Axes>"
      ]
     },
     "metadata": {},
     "output_type": "display_data"
    }
   ],
   "source": [
    "# 算出cut-off value\n",
    "from sklearn.metrics import roc_curve, auc\n",
    "import pylab as pl\n",
    "# result = sm.Logit(y_train, X_train).fit(disp=False)\n",
    "# print (result.summary())\n",
    "\n",
    "# # Add prediction to dataframe\n",
    "# y_pred = result.predict(X_test)vnb    nbv  \n",
    "\n",
    "\n",
    "fpr, tpr, thresholds =roc_curve(y_test, y_pred)\n",
    "roc_auc = auc(fpr, tpr)\n",
    "print(\"Area under the ROC curve : %f\" % roc_auc)\n",
    "\n",
    "####################################\n",
    "# The optimal cut off would be where tpr is high and fpr is low\n",
    "# tpr - (1-fpr) is zero or near to zero is the optimal cut off point\n",
    "####################################\n",
    "i = np.arange(len(tpr)) # index for df\n",
    "roc = pd.DataFrame({'fpr' : pd.Series(fpr, index=i),'tpr' : pd.Series(tpr, index = i), '1-fpr' : pd.Series(1-fpr, index = i), 'tf' : pd.Series(tpr - (1-fpr), index = i), 'thresholds' : pd.Series(thresholds, index = i)})\n",
    "roc2 = roc.iloc[(roc.tf-0).abs().argsort()[:1]]\n",
    "print(roc2)\n",
    "\n",
    "# Plot tpr vs 1-fpr\n",
    "fig, ax = pl.subplots()\n",
    "pl.plot(roc['tpr'])\n",
    "pl.plot(roc['1-fpr'], color = 'red')\n",
    "pl.xlabel('1-False Positive Rate')\n",
    "pl.ylabel('True Positive Rate')\n",
    "pl.title('Receiver operating characteristic')\n",
    "ax.set_xticklabels([])"
   ]
  }
 ],
 "metadata": {
  "kernelspec": {
   "display_name": "Python 3 (ipykernel)",
   "language": "python",
   "name": "python3"
  },
  "language_info": {
   "codemirror_mode": {
    "name": "ipython",
    "version": 3
   },
   "file_extension": ".py",
   "mimetype": "text/x-python",
   "name": "python",
   "nbconvert_exporter": "python",
   "pygments_lexer": "ipython3",
   "version": "3.8.16"
  }
 },
 "nbformat": 4,
 "nbformat_minor": 5
}
